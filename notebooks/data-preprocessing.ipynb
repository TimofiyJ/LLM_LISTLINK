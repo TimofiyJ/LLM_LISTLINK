{
 "cells": [
  {
   "cell_type": "code",
   "execution_count": 167,
   "metadata": {},
   "outputs": [],
   "source": [
    "import pandas as pd\n",
    "import numpy as np\n",
    "import json"
   ]
  },
  {
   "cell_type": "code",
   "execution_count": 168,
   "metadata": {},
   "outputs": [],
   "source": [
    "page_df = pd.read_csv(\"../data/ig-page.csv\")"
   ]
  },
  {
   "cell_type": "code",
   "execution_count": 169,
   "metadata": {},
   "outputs": [],
   "source": [
    "hashtags = [i for i in page_df.columns if i.count(\"hashtags\")>0]"
   ]
  },
  {
   "cell_type": "code",
   "execution_count": 170,
   "metadata": {},
   "outputs": [
    {
     "name": "stdout",
     "output_type": "stream",
     "text": [
      "['hashtags/0', 'hashtags/1', 'hashtags/2', 'hashtags/3', 'hashtags/4', 'hashtags/5', 'hashtags/6', 'hashtags/7', 'hashtags/8', 'hashtags/9', 'hashtags/10', 'hashtags/11', 'hashtags/12', 'hashtags/13']\n"
     ]
    }
   ],
   "source": [
    "print(hashtags)"
   ]
  },
  {
   "cell_type": "code",
   "execution_count": 171,
   "metadata": {},
   "outputs": [],
   "source": [
    "for column in hashtags:\n",
    "    page_df = page_df.drop(column,axis = 1)\n"
   ]
  },
  {
   "cell_type": "code",
   "execution_count": 172,
   "metadata": {},
   "outputs": [
    {
     "name": "stdout",
     "output_type": "stream",
     "text": [
      "                                                caption\n",
      "0     While navigating a myriad of life challenges, ...\n",
      "1     As you hike your way through peak bloom season...\n",
      "2     Looks like the cats out of (or in) the bag – a...\n",
      "3     Ski season ain’t over until we say it’s over ⛷...\n",
      "4     However you prep to sleep under the stars, we ...\n",
      "...                                                 ...\n",
      "1869  \"The smell of the mountain air renews my soul\"...\n",
      "1870  In good company.\\n📷: @awakeyouradventure @bogl...\n",
      "1871  “On my last morning on the PCT, I slung my Lum...\n",
      "1872  \"We hike less than we want to, but when we do ...\n",
      "1873  \"I'd like to stand with you at the base of the...\n",
      "\n",
      "[1874 rows x 1 columns]\n"
     ]
    }
   ],
   "source": [
    "print(page_df)"
   ]
  },
  {
   "cell_type": "code",
   "execution_count": 173,
   "metadata": {},
   "outputs": [],
   "source": [
    "page_df.to_csv(\"../data/page-train.csv\")"
   ]
  },
  {
   "cell_type": "code",
   "execution_count": 174,
   "metadata": {},
   "outputs": [],
   "source": [
    "search_backpack_f = open(\"../data/ig-search-backpack.json\", encoding=\"utf8\")"
   ]
  },
  {
   "cell_type": "code",
   "execution_count": 175,
   "metadata": {},
   "outputs": [],
   "source": [
    "search_backpack = json.load(search_backpack_f)"
   ]
  },
  {
   "cell_type": "code",
   "execution_count": 176,
   "metadata": {},
   "outputs": [],
   "source": [
    "data = []"
   ]
  },
  {
   "cell_type": "code",
   "execution_count": 177,
   "metadata": {},
   "outputs": [],
   "source": [
    "for element in search_backpack:\n",
    "    for category in element:\n",
    "        for post in element[category]:\n",
    "            data.append(post['caption'])\n"
   ]
  },
  {
   "cell_type": "code",
   "execution_count": 178,
   "metadata": {},
   "outputs": [],
   "source": [
    "search_backpack_df = pd.DataFrame(data, columns=['caption'])\n"
   ]
  },
  {
   "cell_type": "code",
   "execution_count": 179,
   "metadata": {},
   "outputs": [
    {
     "name": "stdout",
     "output_type": "stream",
     "text": [
      "                                               caption\n",
      "0    Бути вільним - це робити те, що хочеш, \\nбути ...\n",
      "1    Chaotic but insanely beautiful Bangkok 🇹🇭 \\n\\n...\n",
      "2    Some pics while riding taken by my favorite ba...\n",
      "3    On Tomodachi Life (PART 1):\\n 1) Emma has grow...\n",
      "4    Thomas and Friends Backpack\\nBrand: Trade Mark...\n",
      "..                                                 ...\n",
      "122  🩵\\n\\n#mayabay #thailand #phiphiisland #krabi #...\n",
      "123  .\\n매우이국적인풍경,\\n상당히이국주적인풍경,\\n그곳에서너와나그리고바이크,\\n#매주...\n",
      "124  .\\n참좋았던캐나다무드,\\n착장도마음에들었는데,\\n와잎브로는농부같다고함,\\n#파머룩...\n",
      "125  .\\n하임플래닛케이브,\\n진짜편하고이쁘고좋은데,\\n마디마디바람다빠짐,\\n#수리맡긴다...\n",
      "126  📍Gardens by the Bay\\n\\nSingapore!\\n\\nProbably ...\n",
      "\n",
      "[127 rows x 1 columns]\n"
     ]
    }
   ],
   "source": [
    "print(search_backpack_df)"
   ]
  },
  {
   "cell_type": "code",
   "execution_count": 180,
   "metadata": {},
   "outputs": [],
   "source": [
    "search_backpack_df.to_csv(\"../data/search-backpack-train.csv\")"
   ]
  },
  {
   "cell_type": "code",
   "execution_count": 181,
   "metadata": {},
   "outputs": [],
   "source": [
    "search_backpackgift_f = open(\"../data/ig-search-backpack-gift.json\", encoding=\"utf8\")"
   ]
  },
  {
   "cell_type": "code",
   "execution_count": 182,
   "metadata": {},
   "outputs": [],
   "source": [
    "search_backpackgift = json.load(search_backpackgift_f)"
   ]
  },
  {
   "cell_type": "code",
   "execution_count": 183,
   "metadata": {},
   "outputs": [],
   "source": [
    "data = []"
   ]
  },
  {
   "cell_type": "code",
   "execution_count": 184,
   "metadata": {},
   "outputs": [],
   "source": [
    "for element in search_backpackgift:\n",
    "    for category in element:\n",
    "        for post in element[category]:\n",
    "            data.append(post['caption'])\n"
   ]
  },
  {
   "cell_type": "code",
   "execution_count": 185,
   "metadata": {},
   "outputs": [],
   "source": [
    "search_backpackgift_df = pd.DataFrame(data, columns=['caption'])"
   ]
  },
  {
   "cell_type": "code",
   "execution_count": 186,
   "metadata": {},
   "outputs": [
    {
     "name": "stdout",
     "output_type": "stream",
     "text": [
      "                                              caption\n",
      "0   Bluey backpack 🎒💙 \\nEaster gift!! \\n\\n#easter ...\n",
      "1   🎁✨ Searching for the perfect Christmas gift? L...\n",
      "2   Hands free holiday gift idea - 3 different bac...\n",
      "3   If you know what you want, ask for it...🥰\\n.\\n...\n",
      "4   Trust the process..🥰\\n.\\n...💪\\n.\\n.\\n.\\nhttps:...\n",
      "..                                                ...\n",
      "91  Gonna be hard to part with this one 💚\\n“The Ch...\n",
      "92  Michael kors fall collection.#fallcolors#newco...\n",
      "93  Raver Rainbow Nightpack set: backpack & chest/...\n",
      "94  The new power bank backpacks is the new go in ...\n",
      "95  Looking for A great gift and unique gift….Rand...\n",
      "\n",
      "[96 rows x 1 columns]\n"
     ]
    }
   ],
   "source": [
    "print(search_backpackgift_df)"
   ]
  },
  {
   "cell_type": "code",
   "execution_count": 187,
   "metadata": {},
   "outputs": [],
   "source": [
    "search_backpackgift_df.to_csv(\"../data/search-backpackgift-train.csv\")"
   ]
  },
  {
   "cell_type": "code",
   "execution_count": 188,
   "metadata": {},
   "outputs": [],
   "source": [
    "training_df = pd.concat([page_df, search_backpack_df, search_backpackgift_df])"
   ]
  },
  {
   "cell_type": "code",
   "execution_count": 189,
   "metadata": {},
   "outputs": [],
   "source": [
    "training_df = training_df.reset_index(drop=True)"
   ]
  },
  {
   "cell_type": "code",
   "execution_count": 192,
   "metadata": {},
   "outputs": [
    {
     "name": "stdout",
     "output_type": "stream",
     "text": [
      "                                                caption\n",
      "0     While navigating a myriad of life challenges, ...\n",
      "1     As you hike your way through peak bloom season...\n",
      "2     Looks like the cats out of (or in) the bag – a...\n",
      "3     Ski season ain’t over until we say it’s over ⛷...\n",
      "4     However you prep to sleep under the stars, we ...\n",
      "...                                                 ...\n",
      "2092  Gonna be hard to part with this one 💚\\n“The Ch...\n",
      "2093  Michael kors fall collection.#fallcolors#newco...\n",
      "2094  Raver Rainbow Nightpack set: backpack & chest/...\n",
      "2095  The new power bank backpacks is the new go in ...\n",
      "2096  Looking for A great gift and unique gift….Rand...\n",
      "\n",
      "[2097 rows x 1 columns]\n"
     ]
    }
   ],
   "source": [
    "print(training_df)"
   ]
  },
  {
   "cell_type": "code",
   "execution_count": 191,
   "metadata": {},
   "outputs": [],
   "source": [
    "training_df.to_csv(\"../data/data-train.csv\")"
   ]
  },
  {
   "cell_type": "code",
   "execution_count": 195,
   "metadata": {},
   "outputs": [
    {
     "name": "stdout",
     "output_type": "stream",
     "text": [
      "POST request successful.\n",
      "Response: {'status': 'complete', 'errors': [], 'output': {'answer': 'write a post about using backpacks for travel'}, 'credits_used': [{'credits': 4, 'name': 'Base Chain Run Cost'}, {'credits': 0.55, 'multiplier': 1, 'num_units': 0.55, 'name': 'prompt_completion 0', 'tool_run_id': '', 'tool_name': '', 'tool_id': ''}], 'executionTime': 264, 'cost': 4.55}\n"
     ]
    }
   ],
   "source": [
    "import requests\n",
    "\n",
    "url = \"https://api-d7b62b.stack.tryrelevance.com/latest/studios/448a3628-5ab8-42b7-8aee-bdf53fb9f151/trigger_limited\"\n",
    "\n",
    "payload = {\n",
    "    \"params\": {\n",
    "        \"ig_post\": \"Using your extra day of adventure to travel? Take the Sojourn Travel Collection along for the ride ✈️#OspreyPacks\"\n",
    "    },\n",
    "    \"project\": \"72367db86296-41e4-b1d6-bc52467a83e1\"\n",
    "}\n",
    "\n",
    "# Make the POST request\n",
    "response = requests.post(url, json=payload)\n",
    "\n",
    "# Check if the request was successful\n",
    "if response.status_code == 200:\n",
    "    print(\"POST request successful.\")\n",
    "    print(\"Response:\", response.json())\n",
    "else:\n",
    "    print(\"Error:\", response.status_code, response.text)\n"
   ]
  },
  {
   "cell_type": "code",
   "execution_count": 207,
   "metadata": {},
   "outputs": [
    {
     "name": "stdout",
     "output_type": "stream",
     "text": [
      "write a post about using backpacks for travel\n"
     ]
    }
   ],
   "source": [
    "print(response.json()['output']['answer'])"
   ]
  },
  {
   "cell_type": "code",
   "execution_count": 210,
   "metadata": {},
   "outputs": [],
   "source": [
    "data = pd.read_csv(\"../data/data-train2.csv\")"
   ]
  },
  {
   "cell_type": "code",
   "execution_count": 211,
   "metadata": {},
   "outputs": [],
   "source": [
    "answers = []"
   ]
  },
  {
   "cell_type": "code",
   "execution_count": 212,
   "metadata": {},
   "outputs": [
    {
     "name": "stdout",
     "output_type": "stream",
     "text": [
      "                                                caption\n",
      "0     While navigating a myriad of life challenges, ...\n",
      "1     As you hike your way through peak bloom season...\n",
      "2     Looks like the cats out of (or in) the bag – a...\n",
      "3     Ski season ain’t over until we say it’s over ⛷...\n",
      "4     However you prep to sleep under the stars, we ...\n",
      "...                                                 ...\n",
      "2091  Gonna be hard to part with this one 💚\\n“The Ch...\n",
      "2092  Michael kors fall collection.#fallcolors#newco...\n",
      "2093  Raver Rainbow Nightpack set: backpack & chest/...\n",
      "2094  The new power bank backpacks is the new go in ...\n",
      "2095  Looking for A great gift and unique gift….Rand...\n",
      "\n",
      "[2096 rows x 1 columns]\n"
     ]
    }
   ],
   "source": [
    "print(data)"
   ]
  },
  {
   "cell_type": "code",
   "execution_count": 213,
   "metadata": {},
   "outputs": [
    {
     "name": "stdout",
     "output_type": "stream",
     "text": [
      "POST request successful.\n",
      "POST request successful.\n",
      "POST request successful.\n",
      "POST request successful.\n",
      "POST request successful.\n",
      "POST request successful.\n",
      "POST request successful.\n",
      "POST request successful.\n",
      "POST request successful.\n",
      "POST request successful.\n",
      "POST request successful.\n",
      "POST request successful.\n",
      "POST request successful.\n",
      "POST request successful.\n",
      "POST request successful.\n",
      "POST request successful.\n",
      "POST request successful.\n",
      "POST request successful.\n",
      "POST request successful.\n",
      "POST request successful.\n",
      "POST request successful.\n",
      "POST request successful.\n",
      "POST request successful.\n",
      "POST request successful.\n",
      "POST request successful.\n",
      "POST request successful.\n",
      "POST request successful.\n",
      "POST request successful.\n",
      "POST request successful.\n",
      "POST request successful.\n",
      "POST request successful.\n",
      "POST request successful.\n",
      "POST request successful.\n",
      "POST request successful.\n",
      "POST request successful.\n",
      "POST request successful.\n",
      "POST request successful.\n",
      "POST request successful.\n",
      "POST request successful.\n",
      "POST request successful.\n",
      "POST request successful.\n",
      "POST request successful.\n",
      "POST request successful.\n",
      "POST request successful.\n",
      "POST request successful.\n",
      "POST request successful.\n",
      "POST request successful.\n",
      "POST request successful.\n",
      "POST request successful.\n",
      "POST request successful.\n",
      "POST request successful.\n",
      "POST request successful.\n",
      "POST request successful.\n",
      "POST request successful.\n",
      "POST request successful.\n",
      "POST request successful.\n",
      "POST request successful.\n",
      "POST request successful.\n",
      "POST request successful.\n",
      "POST request successful.\n",
      "POST request successful.\n",
      "POST request successful.\n",
      "POST request successful.\n",
      "POST request successful.\n",
      "POST request successful.\n",
      "POST request successful.\n",
      "POST request successful.\n",
      "POST request successful.\n",
      "POST request successful.\n",
      "POST request successful.\n",
      "POST request successful.\n",
      "POST request successful.\n",
      "POST request successful.\n",
      "POST request successful.\n",
      "POST request successful.\n",
      "POST request successful.\n",
      "POST request successful.\n",
      "POST request successful.\n",
      "POST request successful.\n",
      "POST request successful.\n",
      "POST request successful.\n",
      "POST request successful.\n",
      "POST request successful.\n",
      "POST request successful.\n",
      "POST request successful.\n",
      "POST request successful.\n",
      "POST request successful.\n",
      "POST request successful.\n",
      "POST request successful.\n",
      "POST request successful.\n",
      "POST request successful.\n",
      "POST request successful.\n",
      "POST request successful.\n",
      "POST request successful.\n",
      "POST request successful.\n",
      "POST request successful.\n",
      "POST request successful.\n",
      "POST request successful.\n",
      "POST request successful.\n",
      "POST request successful.\n",
      "POST request successful.\n",
      "POST request successful.\n",
      "POST request successful.\n",
      "POST request successful.\n",
      "POST request successful.\n",
      "POST request successful.\n",
      "POST request successful.\n",
      "POST request successful.\n",
      "POST request successful.\n",
      "POST request successful.\n",
      "POST request successful.\n",
      "POST request successful.\n",
      "POST request successful.\n",
      "POST request successful.\n",
      "POST request successful.\n",
      "POST request successful.\n",
      "POST request successful.\n",
      "POST request successful.\n",
      "POST request successful.\n",
      "POST request successful.\n",
      "POST request successful.\n",
      "POST request successful.\n",
      "POST request successful.\n",
      "POST request successful.\n",
      "POST request successful.\n",
      "POST request successful.\n",
      "POST request successful.\n",
      "POST request successful.\n",
      "POST request successful.\n",
      "POST request successful.\n",
      "POST request successful.\n",
      "POST request successful.\n",
      "POST request successful.\n",
      "POST request successful.\n",
      "POST request successful.\n",
      "POST request successful.\n",
      "POST request successful.\n",
      "POST request successful.\n",
      "POST request successful.\n",
      "POST request successful.\n",
      "POST request successful.\n",
      "POST request successful.\n",
      "POST request successful.\n",
      "POST request successful.\n",
      "POST request successful.\n",
      "POST request successful.\n",
      "POST request successful.\n",
      "POST request successful.\n",
      "POST request successful.\n",
      "POST request successful.\n",
      "POST request successful.\n",
      "POST request successful.\n",
      "POST request successful.\n",
      "POST request successful.\n",
      "POST request successful.\n",
      "POST request successful.\n",
      "POST request successful.\n",
      "POST request successful.\n",
      "POST request successful.\n",
      "POST request successful.\n",
      "POST request successful.\n",
      "POST request successful.\n",
      "POST request successful.\n",
      "POST request successful.\n",
      "POST request successful.\n",
      "POST request successful.\n",
      "POST request successful.\n",
      "POST request successful.\n",
      "POST request successful.\n",
      "POST request successful.\n",
      "POST request successful.\n",
      "POST request successful.\n",
      "POST request successful.\n",
      "POST request successful.\n",
      "POST request successful.\n",
      "POST request successful.\n",
      "POST request successful.\n",
      "POST request successful.\n",
      "POST request successful.\n",
      "POST request successful.\n",
      "POST request successful.\n",
      "POST request successful.\n",
      "POST request successful.\n",
      "POST request successful.\n",
      "POST request successful.\n",
      "POST request successful.\n",
      "POST request successful.\n",
      "POST request successful.\n",
      "POST request successful.\n",
      "POST request successful.\n",
      "POST request successful.\n",
      "POST request successful.\n",
      "POST request successful.\n",
      "POST request successful.\n",
      "POST request successful.\n",
      "POST request successful.\n",
      "POST request successful.\n",
      "POST request successful.\n",
      "POST request successful.\n",
      "POST request successful.\n",
      "POST request successful.\n",
      "POST request successful.\n",
      "POST request successful.\n",
      "POST request successful.\n",
      "POST request successful.\n",
      "POST request successful.\n",
      "POST request successful.\n",
      "POST request successful.\n",
      "POST request successful.\n",
      "POST request successful.\n",
      "POST request successful.\n",
      "POST request successful.\n",
      "POST request successful.\n",
      "POST request successful.\n",
      "POST request successful.\n",
      "POST request successful.\n",
      "POST request successful.\n",
      "POST request successful.\n",
      "POST request successful.\n",
      "POST request successful.\n",
      "POST request successful.\n",
      "POST request successful.\n",
      "POST request successful.\n",
      "POST request successful.\n",
      "POST request successful.\n",
      "POST request successful.\n",
      "POST request successful.\n",
      "POST request successful.\n",
      "POST request successful.\n",
      "POST request successful.\n",
      "POST request successful.\n",
      "POST request successful.\n",
      "POST request successful.\n",
      "POST request successful.\n",
      "POST request successful.\n",
      "POST request successful.\n",
      "POST request successful.\n",
      "POST request successful.\n",
      "POST request successful.\n",
      "POST request successful.\n",
      "POST request successful.\n",
      "POST request successful.\n",
      "POST request successful.\n",
      "POST request successful.\n",
      "POST request successful.\n",
      "POST request successful.\n",
      "POST request successful.\n",
      "POST request successful.\n",
      "POST request successful.\n",
      "POST request successful.\n",
      "POST request successful.\n",
      "POST request successful.\n",
      "POST request successful.\n",
      "POST request successful.\n",
      "POST request successful.\n",
      "POST request successful.\n",
      "POST request successful.\n",
      "POST request successful.\n",
      "POST request successful.\n",
      "POST request successful.\n",
      "POST request successful.\n",
      "POST request successful.\n",
      "POST request successful.\n",
      "POST request successful.\n",
      "POST request successful.\n",
      "POST request successful.\n",
      "POST request successful.\n",
      "POST request successful.\n",
      "POST request successful.\n",
      "POST request successful.\n",
      "POST request successful.\n",
      "POST request successful.\n",
      "POST request successful.\n",
      "POST request successful.\n",
      "POST request successful.\n",
      "POST request successful.\n",
      "POST request successful.\n",
      "POST request successful.\n",
      "POST request successful.\n",
      "POST request successful.\n",
      "POST request successful.\n",
      "POST request successful.\n",
      "POST request successful.\n",
      "POST request successful.\n",
      "POST request successful.\n",
      "POST request successful.\n",
      "POST request successful.\n",
      "POST request successful.\n",
      "POST request successful.\n",
      "POST request successful.\n",
      "POST request successful.\n",
      "POST request successful.\n",
      "POST request successful.\n",
      "POST request successful.\n",
      "POST request successful.\n",
      "POST request successful.\n",
      "POST request successful.\n",
      "POST request successful.\n",
      "POST request successful.\n",
      "POST request successful.\n",
      "POST request successful.\n",
      "POST request successful.\n",
      "POST request successful.\n",
      "POST request successful.\n",
      "POST request successful.\n",
      "POST request successful.\n",
      "POST request successful.\n",
      "POST request successful.\n",
      "POST request successful.\n",
      "POST request successful.\n",
      "POST request successful.\n",
      "POST request successful.\n",
      "POST request successful.\n",
      "POST request successful.\n",
      "POST request successful.\n",
      "POST request successful.\n",
      "POST request successful.\n",
      "POST request successful.\n",
      "POST request successful.\n",
      "POST request successful.\n",
      "POST request successful.\n",
      "POST request successful.\n",
      "POST request successful.\n",
      "POST request successful.\n",
      "POST request successful.\n",
      "POST request successful.\n",
      "POST request successful.\n",
      "POST request successful.\n",
      "POST request successful.\n",
      "POST request successful.\n",
      "POST request successful.\n",
      "POST request successful.\n",
      "POST request successful.\n",
      "POST request successful.\n",
      "POST request successful.\n",
      "POST request successful.\n",
      "POST request successful.\n",
      "POST request successful.\n",
      "POST request successful.\n",
      "POST request successful.\n",
      "POST request successful.\n",
      "POST request successful.\n",
      "POST request successful.\n",
      "POST request successful.\n",
      "POST request successful.\n",
      "POST request successful.\n",
      "POST request successful.\n",
      "POST request successful.\n",
      "POST request successful.\n",
      "POST request successful.\n",
      "POST request successful.\n",
      "POST request successful.\n",
      "POST request successful.\n",
      "POST request successful.\n",
      "POST request successful.\n",
      "POST request successful.\n",
      "POST request successful.\n",
      "POST request successful.\n",
      "POST request successful.\n",
      "POST request successful.\n",
      "POST request successful.\n",
      "POST request successful.\n",
      "POST request successful.\n",
      "POST request successful.\n",
      "POST request successful.\n",
      "POST request successful.\n",
      "POST request successful.\n",
      "POST request successful.\n",
      "POST request successful.\n",
      "POST request successful.\n",
      "POST request successful.\n",
      "POST request successful.\n",
      "POST request successful.\n",
      "POST request successful.\n",
      "POST request successful.\n",
      "POST request successful.\n",
      "POST request successful.\n",
      "POST request successful.\n",
      "POST request successful.\n",
      "POST request successful.\n",
      "POST request successful.\n",
      "POST request successful.\n",
      "POST request successful.\n",
      "POST request successful.\n",
      "POST request successful.\n",
      "POST request successful.\n",
      "POST request successful.\n",
      "POST request successful.\n",
      "POST request successful.\n",
      "POST request successful.\n",
      "POST request successful.\n",
      "POST request successful.\n",
      "POST request successful.\n",
      "POST request successful.\n",
      "POST request successful.\n",
      "POST request successful.\n",
      "POST request successful.\n",
      "POST request successful.\n",
      "POST request successful.\n",
      "POST request successful.\n",
      "POST request successful.\n",
      "POST request successful.\n",
      "POST request successful.\n",
      "POST request successful.\n",
      "POST request successful.\n",
      "POST request successful.\n",
      "POST request successful.\n",
      "POST request successful.\n",
      "POST request successful.\n",
      "POST request successful.\n",
      "POST request successful.\n",
      "POST request successful.\n",
      "POST request successful.\n",
      "POST request successful.\n",
      "POST request successful.\n",
      "POST request successful.\n",
      "POST request successful.\n",
      "POST request successful.\n",
      "POST request successful.\n",
      "POST request successful.\n",
      "POST request successful.\n",
      "POST request successful.\n",
      "POST request successful.\n",
      "POST request successful.\n",
      "POST request successful.\n",
      "POST request successful.\n",
      "POST request successful.\n",
      "POST request successful.\n",
      "POST request successful.\n",
      "POST request successful.\n",
      "POST request successful.\n",
      "POST request successful.\n",
      "POST request successful.\n",
      "POST request successful.\n",
      "POST request successful.\n",
      "POST request successful.\n",
      "POST request successful.\n",
      "POST request successful.\n",
      "POST request successful.\n",
      "POST request successful.\n",
      "POST request successful.\n",
      "POST request successful.\n",
      "POST request successful.\n",
      "POST request successful.\n",
      "POST request successful.\n",
      "POST request successful.\n",
      "POST request successful.\n",
      "POST request successful.\n",
      "POST request successful.\n",
      "POST request successful.\n",
      "POST request successful.\n",
      "POST request successful.\n",
      "POST request successful.\n",
      "POST request successful.\n",
      "POST request successful.\n",
      "POST request successful.\n",
      "POST request successful.\n",
      "POST request successful.\n",
      "POST request successful.\n",
      "POST request successful.\n",
      "POST request successful.\n",
      "POST request successful.\n",
      "POST request successful.\n",
      "POST request successful.\n",
      "POST request successful.\n",
      "POST request successful.\n",
      "POST request successful.\n",
      "POST request successful.\n",
      "POST request successful.\n",
      "POST request successful.\n",
      "POST request successful.\n",
      "POST request successful.\n",
      "POST request successful.\n",
      "POST request successful.\n",
      "POST request successful.\n",
      "POST request successful.\n",
      "POST request successful.\n",
      "POST request successful.\n",
      "POST request successful.\n",
      "POST request successful.\n",
      "POST request successful.\n",
      "POST request successful.\n",
      "POST request successful.\n",
      "POST request successful.\n",
      "POST request successful.\n",
      "POST request successful.\n",
      "POST request successful.\n"
     ]
    },
    {
     "ename": "KeyError",
     "evalue": "'answer'",
     "output_type": "error",
     "traceback": [
      "\u001b[1;31m---------------------------------------------------------------------------\u001b[0m",
      "\u001b[1;31mKeyError\u001b[0m                                  Traceback (most recent call last)",
      "Cell \u001b[1;32mIn[213], line 13\u001b[0m\n\u001b[0;32m     11\u001b[0m \u001b[38;5;28;01mif\u001b[39;00m response\u001b[38;5;241m.\u001b[39mstatus_code \u001b[38;5;241m==\u001b[39m \u001b[38;5;241m200\u001b[39m:\n\u001b[0;32m     12\u001b[0m     \u001b[38;5;28mprint\u001b[39m(\u001b[38;5;124m\"\u001b[39m\u001b[38;5;124mPOST request successful.\u001b[39m\u001b[38;5;124m\"\u001b[39m)\n\u001b[1;32m---> 13\u001b[0m     answers\u001b[38;5;241m.\u001b[39mappend(\u001b[43mresponse\u001b[49m\u001b[38;5;241;43m.\u001b[39;49m\u001b[43mjson\u001b[49m\u001b[43m(\u001b[49m\u001b[43m)\u001b[49m\u001b[43m[\u001b[49m\u001b[38;5;124;43m'\u001b[39;49m\u001b[38;5;124;43moutput\u001b[39;49m\u001b[38;5;124;43m'\u001b[39;49m\u001b[43m]\u001b[49m\u001b[43m[\u001b[49m\u001b[38;5;124;43m'\u001b[39;49m\u001b[38;5;124;43manswer\u001b[39;49m\u001b[38;5;124;43m'\u001b[39;49m\u001b[43m]\u001b[49m)\n\u001b[0;32m     14\u001b[0m \u001b[38;5;28;01melse\u001b[39;00m:\n\u001b[0;32m     15\u001b[0m     \u001b[38;5;28mprint\u001b[39m(\u001b[38;5;124m\"\u001b[39m\u001b[38;5;124mError:\u001b[39m\u001b[38;5;124m\"\u001b[39m, response\u001b[38;5;241m.\u001b[39mstatus_code, response\u001b[38;5;241m.\u001b[39mtext)\n",
      "\u001b[1;31mKeyError\u001b[0m: 'answer'"
     ]
    }
   ],
   "source": [
    "for i in range(data.size-1):\n",
    "    payload = {\n",
    "    \"params\": {\n",
    "        \"ig_post\": data[\"caption\"].iloc[i],\n",
    "    },\n",
    "    \"project\": \"72367db86296-41e4-b1d6-bc52467a83e1\"\n",
    "    }\n",
    "\n",
    "    response = requests.post(url, json=payload)\n",
    "\n",
    "    if response.status_code == 200:\n",
    "        print(\"POST request successful.\")\n",
    "        answers.append(response.json()['output']['answer'])\n",
    "    else:\n",
    "        print(\"Error:\", response.status_code, response.text)"
   ]
  },
  {
   "cell_type": "code",
   "execution_count": 221,
   "metadata": {},
   "outputs": [
    {
     "ename": "TypeError",
     "evalue": "unsupported operand type(s) for -=: 'list' and 'list'",
     "output_type": "error",
     "traceback": [
      "\u001b[1;31m---------------------------------------------------------------------------\u001b[0m",
      "\u001b[1;31mTypeError\u001b[0m                                 Traceback (most recent call last)",
      "Cell \u001b[1;32mIn[221], line 1\u001b[0m\n\u001b[1;32m----> 1\u001b[0m \u001b[43manswers\u001b[49m\u001b[43m \u001b[49m\u001b[38;5;241;43m-\u001b[39;49m\u001b[38;5;241;43m=\u001b[39;49m\u001b[43m \u001b[49m\u001b[43m[\u001b[49m\u001b[38;5;124;43m\"\u001b[39;49m\u001b[38;5;124;43m\"\u001b[39;49m\u001b[43m]\u001b[49m\u001b[43m \u001b[49m\u001b[38;5;241;43m*\u001b[39;49m\u001b[43m \u001b[49m\u001b[43m(\u001b[49m\u001b[38;5;28;43mlen\u001b[39;49m\u001b[43m(\u001b[49m\u001b[43mdata\u001b[49m\u001b[43m)\u001b[49m\u001b[43m \u001b[49m\u001b[38;5;241;43m-\u001b[39;49m\u001b[43m \u001b[49m\u001b[38;5;28;43mlen\u001b[39;49m\u001b[43m(\u001b[49m\u001b[43manswers\u001b[49m\u001b[43m)\u001b[49m\u001b[43m)\u001b[49m\n",
      "\u001b[1;31mTypeError\u001b[0m: unsupported operand type(s) for -=: 'list' and 'list'"
     ]
    }
   ],
   "source": [
    "answers += [\"\"] * (len(data) - len(answers))"
   ]
  },
  {
   "cell_type": "code",
   "execution_count": 225,
   "metadata": {},
   "outputs": [
    {
     "name": "stdout",
     "output_type": "stream",
     "text": [
      "486\n"
     ]
    }
   ],
   "source": [
    "for i in range(len(answers)):\n",
    "    if answers[i]==\"\":\n",
    "        print(i)\n",
    "        break"
   ]
  },
  {
   "cell_type": "code",
   "execution_count": 228,
   "metadata": {},
   "outputs": [],
   "source": [
    "new_dataframe = data.iloc[:len(answers)]"
   ]
  },
  {
   "cell_type": "code",
   "execution_count": 230,
   "metadata": {},
   "outputs": [],
   "source": [
    "new_dataframe.to_csv(\"../data/data-train-llm2.csv\")"
   ]
  },
  {
   "cell_type": "code",
   "execution_count": 217,
   "metadata": {},
   "outputs": [],
   "source": [
    "data[\"answer\"] = answers"
   ]
  },
  {
   "cell_type": "code",
   "execution_count": 219,
   "metadata": {},
   "outputs": [],
   "source": [
    "data.to_csv(\"../data/data-train-llm.csv\")"
   ]
  }
 ],
 "metadata": {
  "kernelspec": {
   "display_name": "Python 3",
   "language": "python",
   "name": "python3"
  },
  "language_info": {
   "codemirror_mode": {
    "name": "ipython",
    "version": 3
   },
   "file_extension": ".py",
   "mimetype": "text/x-python",
   "name": "python",
   "nbconvert_exporter": "python",
   "pygments_lexer": "ipython3",
   "version": "3.11.4"
  }
 },
 "nbformat": 4,
 "nbformat_minor": 2
}
